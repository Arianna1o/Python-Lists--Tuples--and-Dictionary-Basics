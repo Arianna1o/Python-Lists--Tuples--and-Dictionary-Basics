{
 "cells": [
  {
   "cell_type": "markdown",
   "metadata": {},
   "source": [
    "LISTS\n"
   ]
  },
  {
   "cell_type": "code",
   "execution_count": 1,
   "metadata": {},
   "outputs": [
    {
     "name": "stdout",
     "output_type": "stream",
     "text": [
      "['apple', 'banana', 'kiwi', 'pear', 'grape', 'cherry', 'grapefruit', 'orange', 'blueberry']\n",
      "['apple', 'banana', 'blueberry', 'cherry', 'grape', 'grapefruit', 'kiwi', 'orange', 'pear']\n"
     ]
    }
   ],
   "source": [
    "# using append function\n",
    "fruits = []\n",
    "\n",
    "fruits.append('apple')\n",
    "fruits.append('banana')\n",
    "fruits.append('kiwi')\n",
    "fruits.append('pear')\n",
    "fruits.append('grape')\n",
    "fruits.append('cherry')\n",
    "fruits.append('grapefruit')\n",
    "fruits.append('orange')\n",
    "fruits.append('blueberry')\n",
    "print(fruits)\n",
    "\n",
    "fruits.sort()\n",
    "\n",
    "print(fruits)\n"
   ]
  },
  {
   "cell_type": "code",
   "execution_count": 7,
   "metadata": {},
   "outputs": [
    {
     "name": "stdout",
     "output_type": "stream",
     "text": [
      "[['apple', 'banana', 'pear', 'strawberry', 'blueberry', 'cherry', 'pinnapple', 'grapefruit', 'orange', 'kiwi']]\n",
      "['strawberry', 'blueberry']\n"
     ]
    }
   ],
   "source": [
    "fruits = []\n",
    "\n",
    "fruits_2 = ['apple', 'banana', 'pear', 'strawberry', 'blueberry', 'cherry', 'pinnapple', 'grapefruit', 'orange', 'kiwi']\n",
    "# appending\n",
    "fruits.append(fruits_2)\n",
    "\n",
    "print(fruits)\n",
    "#using indexing to pick certain elements from fruits_2 list\n",
    "Favorites = fruits_2[3:5]\n",
    "\n",
    "print(Favorites)"
   ]
  },
  {
   "cell_type": "code",
   "execution_count": 16,
   "metadata": {},
   "outputs": [
    {
     "name": "stdout",
     "output_type": "stream",
     "text": [
      "[['apple', 'pear', 'strawberry', 'blueberry', 'cherry', 'pinnapple', 'orange', 'kiwi']]\n"
     ]
    }
   ],
   "source": [
    "fruits = []\n",
    "\n",
    "fruits_2 = ['apple', 'banana', 'pear', 'strawberry', 'blueberry', 'cherry', 'pinnapple', 'grapefruit', 'orange', 'kiwi']\n",
    "# using append function to add a list to a list\n",
    "fruits.append(fruits_2)\n",
    "#using remove function to get rid of certain strings in fruits_2 list\n",
    "fruits_2.remove('banana')\n",
    "\n",
    "fruits_2.remove('grapefruit')\n",
    "\n",
    "print(fruits)\n",
    "\n"
   ]
  },
  {
   "cell_type": "code",
   "execution_count": 22,
   "metadata": {},
   "outputs": [
    {
     "data": {
      "text/plain": [
       "10"
      ]
     },
     "execution_count": 22,
     "metadata": {},
     "output_type": "execute_result"
    }
   ],
   "source": [
    "fruits = []\n",
    "\n",
    "fruits_2 = ['apple', 'banana', 'pear', 'strawberry', 'blueberry', 'cherry', 'pinnapple', 'grapefruit', 'orange', 'kiwi']\n",
    "\n",
    "fruits.append(fruits_2)\n",
    "# finding out how many elements are in fruits list using len function\n",
    "len(fruits_2)"
   ]
  },
  {
   "cell_type": "code",
   "execution_count": 29,
   "metadata": {},
   "outputs": [
    {
     "name": "stdout",
     "output_type": "stream",
     "text": [
      "[['kale', 'spinach', 'cauliflower', 'corn', 'celery'], ['blue', 'red', 'yellow', 'orange', 'purple']]\n"
     ]
    }
   ],
   "source": [
    "#list in a list\n",
    "vegs = ['kale','spinach', 'cauliflower','corn', 'celery']\n",
    "\n",
    "colors = ['blue', 'red', 'yellow', 'orange','purple']\n",
    "\n",
    "everything = [] \n",
    "\n",
    "everything.append (vegs)\n",
    "\n",
    "everything.append(colors)\n",
    "\n",
    "print(everything)"
   ]
  },
  {
   "cell_type": "markdown",
   "metadata": {},
   "source": [
    "Assignment 3"
   ]
  },
  {
   "cell_type": "code",
   "execution_count": 9,
   "metadata": {},
   "outputs": [
    {
     "name": "stdout",
     "output_type": "stream",
     "text": [
      "Sorry, you have entered the wrong pin, please try again\n"
     ]
    }
   ],
   "source": [
    "#using input function to type value that code will analyze for correct input\n",
    "pin = input('insert pin')\n",
    "if pin == '1252':\n",
    "    print('Welcome, how much money do you want to withdraw')\n",
    "else:\n",
    "    print('Sorry, you have entered the wrong pin, please try again')\n",
    "\n"
   ]
  },
  {
   "cell_type": "code",
   "execution_count": 8,
   "metadata": {},
   "outputs": [
    {
     "name": "stdout",
     "output_type": "stream",
     "text": [
      "you have entered an odd number\n"
     ]
    }
   ],
   "source": [
    "#continuing with input function\n",
    "numb = int(input('enter a number'))\n",
    "if (numb % 2) != 0:\n",
    "    print('you have entered an odd number')\n",
    "else:\n",
    "    print('you have entered an even number')\n"
   ]
  },
  {
   "cell_type": "code",
   "execution_count": 11,
   "metadata": {},
   "outputs": [
    {
     "name": "stdout",
     "output_type": "stream",
     "text": [
      "Bye\n"
     ]
    }
   ],
   "source": [
    "#more input function using\n",
    "number = int(input('enter a number'))\n",
    "if(number % 4)== 0:\n",
    "    print('Hello')\n",
    "else:\n",
    "    print('Bye')"
   ]
  },
  {
   "cell_type": "code",
   "execution_count": 13,
   "metadata": {},
   "outputs": [
    {
     "name": "stdout",
     "output_type": "stream",
     "text": [
      "A\n"
     ]
    }
   ],
   "source": [
    "# input function used to find grade letter for a number\n",
    "grade = int(input('enter a grade number'))\n",
    "if grade > 90:\n",
    "    print('A')\n",
    "elif grade >80<=90:\n",
    "    print('B')\n",
    "elif grade >=60<=80:\n",
    "    print('C')\n",
    "elif grade <60:\n",
    "    print('D')\n",
    "     "
   ]
  },
  {
   "cell_type": "code",
   "execution_count": 16,
   "metadata": {},
   "outputs": [
    {
     "name": "stdout",
     "output_type": "stream",
     "text": [
      "leap year\n"
     ]
    }
   ],
   "source": [
    "#using input function to have code state if a year is a leap year\n",
    "year = int(input('enter a year'))\n",
    "if (year % 4)== 0:\n",
    "    print('leap year')\n",
    "else:\n",
    "    print('not leap year')"
   ]
  },
  {
   "cell_type": "code",
   "execution_count": 47,
   "metadata": {},
   "outputs": [
    {
     "name": "stdout",
     "output_type": "stream",
     "text": [
      "name not found\n"
     ]
    }
   ],
   "source": [
    "#input function used to identify if inputed value is in name_roster list\n",
    "name_roster = ['Wesley', 'Madison', 'Michel', 'Barry', 'Sasha', 'Arianna']\n",
    "name = input('enter name')\n",
    "for x in name_roster:\n",
    "    if x == name:\n",
    "        print('name is present')\n",
    "        break\n",
    "\n",
    "\n",
    "else:\n",
    "    print('name not found')\n",
    "\n",
    "    \n",
    "    \n",
    "        \n",
    "    \n",
    "\n"
   ]
  }
 ],
 "metadata": {
  "interpreter": {
   "hash": "79acccb13f9d4cbe02702169a4ab1fdaab8f54537472b4c05992f10aebb87b55"
  },
  "kernelspec": {
   "display_name": "Python 3.10.4 64-bit",
   "language": "python",
   "name": "python3"
  },
  "language_info": {
   "codemirror_mode": {
    "name": "ipython",
    "version": 3
   },
   "file_extension": ".py",
   "mimetype": "text/x-python",
   "name": "python",
   "nbconvert_exporter": "python",
   "pygments_lexer": "ipython3",
   "version": "3.10.4"
  },
  "orig_nbformat": 4
 },
 "nbformat": 4,
 "nbformat_minor": 2
}
